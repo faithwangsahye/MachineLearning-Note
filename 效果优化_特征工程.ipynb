{
 "cells": [
  {
   "cell_type": "code",
   "execution_count": 2,
   "id": "1c945435",
   "metadata": {},
   "outputs": [
    {
     "data": {
      "text/plain": [
       "0        4621\n",
       "1        4715\n",
       "2         171\n",
       "3         359\n",
       "4        3178\n",
       "         ... \n",
       "22495    4031\n",
       "22496    3185\n",
       "22497    2363\n",
       "22498     576\n",
       "22499     549\n",
       "Name: duration, Length: 22500, dtype: int64"
      ]
     },
     "execution_count": 2,
     "metadata": {},
     "output_type": "execute_result"
    }
   ],
   "source": [
    "import pandas as pd\n",
    "d = pd.read_csv(\"train.csv\")\n",
    "d['duration']"
   ]
  },
  {
   "cell_type": "code",
   "execution_count": 3,
   "id": "4cd38c0c",
   "metadata": {},
   "outputs": [
    {
     "data": {
      "text/plain": [
       "5149"
      ]
     },
     "execution_count": 3,
     "metadata": {},
     "output_type": "execute_result"
    }
   ],
   "source": [
    "d['duration'].max()"
   ]
  },
  {
   "cell_type": "code",
   "execution_count": 4,
   "id": "ab68d7b1",
   "metadata": {},
   "outputs": [
    {
     "data": {
      "text/plain": [
       "1.4302777777777778"
      ]
     },
     "execution_count": 4,
     "metadata": {},
     "output_type": "execute_result"
    }
   ],
   "source": [
    "5149/3600"
   ]
  },
  {
   "cell_type": "code",
   "execution_count": 5,
   "id": "778b2ed9",
   "metadata": {},
   "outputs": [
    {
     "data": {
      "text/plain": [
       "0"
      ]
     },
     "execution_count": 5,
     "metadata": {},
     "output_type": "execute_result"
    }
   ],
   "source": [
    "d['duration'].min()"
   ]
  },
  {
   "cell_type": "code",
   "execution_count": 6,
   "id": "6fa3662a",
   "metadata": {},
   "outputs": [
    {
     "data": {
      "text/plain": [
       "0        4\n",
       "1        4\n",
       "2        0\n",
       "3        0\n",
       "4        3\n",
       "        ..\n",
       "22495    4\n",
       "22496    3\n",
       "22497    2\n",
       "22498    0\n",
       "22499    0\n",
       "Name: duration_n, Length: 22500, dtype: int64"
      ]
     },
     "execution_count": 6,
     "metadata": {},
     "output_type": "execute_result"
    }
   ],
   "source": [
    "def DurationCategory(x):\n",
    "    x = x//60\n",
    "    if x<15:\n",
    "        return 0\n",
    "    elif x<30:\n",
    "        return 1\n",
    "    elif x<45:\n",
    "        return 2\n",
    "    elif x<60:\n",
    "        return 3\n",
    "    return 4\n",
    "d['duration_n'] = d['duration'].apply(lambda x:DurationCategory(x))\n",
    "d['duration_n']"
   ]
  },
  {
   "cell_type": "code",
   "execution_count": 7,
   "id": "371eac34",
   "metadata": {},
   "outputs": [],
   "source": [
    "subscribe2int = {\"no\":0,\"yes\":1}\n",
    "d['subscribe'] = d['subscribe'].apply(lambda x:subscribe2int.get(x,x))\n"
   ]
  },
  {
   "cell_type": "code",
   "execution_count": 8,
   "id": "8ba3a95f",
   "metadata": {},
   "outputs": [],
   "source": [
    "d.pivot_table(values = )"
   ]
  },
  {
   "cell_type": "code",
   "execution_count": 9,
   "id": "4ca2d5ee",
   "metadata": {},
   "outputs": [
    {
     "data": {
      "text/plain": [
       "0.1312"
      ]
     },
     "execution_count": 9,
     "metadata": {},
     "output_type": "execute_result"
    }
   ],
   "source": [
    "d['subscribe'].mean()"
   ]
  },
  {
   "cell_type": "code",
   "execution_count": 11,
   "id": "d46d82d9",
   "metadata": {},
   "outputs": [
    {
     "data": {
      "text/html": [
       "<div>\n",
       "<style scoped>\n",
       "    .dataframe tbody tr th:only-of-type {\n",
       "        vertical-align: middle;\n",
       "    }\n",
       "\n",
       "    .dataframe tbody tr th {\n",
       "        vertical-align: top;\n",
       "    }\n",
       "\n",
       "    .dataframe thead th {\n",
       "        text-align: right;\n",
       "    }\n",
       "</style>\n",
       "<table border=\"1\" class=\"dataframe\">\n",
       "  <thead>\n",
       "    <tr style=\"text-align: right;\">\n",
       "      <th></th>\n",
       "      <th>subscribe</th>\n",
       "    </tr>\n",
       "    <tr>\n",
       "      <th>duration_n</th>\n",
       "      <th></th>\n",
       "    </tr>\n",
       "  </thead>\n",
       "  <tbody>\n",
       "    <tr>\n",
       "      <th>0</th>\n",
       "      <td>0.118851</td>\n",
       "    </tr>\n",
       "    <tr>\n",
       "      <th>1</th>\n",
       "      <td>0.219598</td>\n",
       "    </tr>\n",
       "    <tr>\n",
       "      <th>2</th>\n",
       "      <td>0.141191</td>\n",
       "    </tr>\n",
       "    <tr>\n",
       "      <th>3</th>\n",
       "      <td>0.126380</td>\n",
       "    </tr>\n",
       "    <tr>\n",
       "      <th>4</th>\n",
       "      <td>0.130365</td>\n",
       "    </tr>\n",
       "  </tbody>\n",
       "</table>\n",
       "</div>"
      ],
      "text/plain": [
       "            subscribe\n",
       "duration_n           \n",
       "0            0.118851\n",
       "1            0.219598\n",
       "2            0.141191\n",
       "3            0.126380\n",
       "4            0.130365"
      ]
     },
     "execution_count": 11,
     "metadata": {},
     "output_type": "execute_result"
    }
   ],
   "source": [
    "import numpy as np\n",
    "pd.pivot_table(d,index = ['duration_n'],values = ['subscribe'],aggfunc = np.mean)"
   ]
  },
  {
   "cell_type": "code",
   "execution_count": 12,
   "id": "69c981f0",
   "metadata": {},
   "outputs": [
    {
     "data": {
      "text/html": [
       "<div>\n",
       "<style scoped>\n",
       "    .dataframe tbody tr th:only-of-type {\n",
       "        vertical-align: middle;\n",
       "    }\n",
       "\n",
       "    .dataframe tbody tr th {\n",
       "        vertical-align: top;\n",
       "    }\n",
       "\n",
       "    .dataframe thead th {\n",
       "        text-align: right;\n",
       "    }\n",
       "</style>\n",
       "<table border=\"1\" class=\"dataframe\">\n",
       "  <thead>\n",
       "    <tr style=\"text-align: right;\">\n",
       "      <th></th>\n",
       "      <th>subscribe</th>\n",
       "    </tr>\n",
       "    <tr>\n",
       "      <th>duration_n</th>\n",
       "      <th></th>\n",
       "    </tr>\n",
       "  </thead>\n",
       "  <tbody>\n",
       "    <tr>\n",
       "      <th>0</th>\n",
       "      <td>0.101628</td>\n",
       "    </tr>\n",
       "    <tr>\n",
       "      <th>1</th>\n",
       "      <td>0.289938</td>\n",
       "    </tr>\n",
       "    <tr>\n",
       "      <th>2</th>\n",
       "      <td>0.180000</td>\n",
       "    </tr>\n",
       "    <tr>\n",
       "      <th>3</th>\n",
       "      <td>0.146140</td>\n",
       "    </tr>\n",
       "    <tr>\n",
       "      <th>4</th>\n",
       "      <td>0.124654</td>\n",
       "    </tr>\n",
       "    <tr>\n",
       "      <th>5</th>\n",
       "      <td>0.130515</td>\n",
       "    </tr>\n",
       "    <tr>\n",
       "      <th>6</th>\n",
       "      <td>0.130365</td>\n",
       "    </tr>\n",
       "  </tbody>\n",
       "</table>\n",
       "</div>"
      ],
      "text/plain": [
       "            subscribe\n",
       "duration_n           \n",
       "0            0.101628\n",
       "1            0.289938\n",
       "2            0.180000\n",
       "3            0.146140\n",
       "4            0.124654\n",
       "5            0.130515\n",
       "6            0.130365"
      ]
     },
     "execution_count": 12,
     "metadata": {},
     "output_type": "execute_result"
    }
   ],
   "source": [
    "def DurationCategory(x):\n",
    "    x = x//60\n",
    "    if x<10:\n",
    "        return 0\n",
    "    elif x<20:\n",
    "        return 1\n",
    "    elif x<30:\n",
    "        return 2\n",
    "    elif x<40:\n",
    "        return 3\n",
    "    elif x<50:\n",
    "        return 4\n",
    "    elif x<60:\n",
    "        return 5\n",
    "    else:\n",
    "        return 6\n",
    "d['duration_n'] = d['duration'].apply(lambda x:DurationCategory(x))\n",
    "import numpy as np\n",
    "pd.pivot_table(d,index = ['duration_n'],values = ['subscribe'],aggfunc = np.mean)"
   ]
  },
  {
   "cell_type": "code",
   "execution_count": 13,
   "id": "e2abf26d",
   "metadata": {},
   "outputs": [],
   "source": [
    "import pandas as pd\n",
    "from sklearn.preprocessing import LabelEncoder\n",
    "from sklearn.model_selection import KFold\n",
    "import lightgbm as lgb\n",
    "from sklearn.metrics import accuracy_score\n",
    "import numpy as np\n",
    "train = pd.read_csv(\"train.csv\")\n",
    "test = pd.read_csv(\"test.csv\")\n",
    "d = pd.concat([train,test])\n",
    "\n",
    "cat_columns = d.select_dtypes(include='O').columns\n",
    "cat_columns = list(cat_columns)\n",
    "cat_columns.remove(\"subscribe\")\n",
    "for c in cat_columns:\n",
    "    le = LabelEncoder()\n",
    "    d[c] = le.fit_transform(d[c])\n",
    "subscribe2int = {\"no\":0,\"yes\":1}\n",
    "d['subscribe'] = d['subscribe'].apply(lambda x:subscribe2int.get(x,x))\n",
    "\n",
    "train = d[~d['subscribe'].isnull()]\n",
    "test = d[d['subscribe'].isnull()]\n",
    "features = list(train.columns)\n",
    "features.remove(\"id\")\n",
    "features.remove(\"subscribe\")\n"
   ]
  },
  {
   "cell_type": "code",
   "execution_count": 14,
   "id": "1a32f0ef",
   "metadata": {},
   "outputs": [
    {
     "name": "stdout",
     "output_type": "stream",
     "text": [
      "age 40.40751111111111 40.3948\n",
      "job 3.7971555555555554 3.8029333333333333\n",
      "marital 1.1922666666666666 1.1953333333333334\n",
      "education 3.732666666666667 3.7505333333333333\n",
      "default 0.24968888888888888 0.25266666666666665\n",
      "housing 1.0676444444444444 1.0749333333333333\n",
      "loan 0.3645777777777778 0.35013333333333335\n",
      "contact 0.36973333333333336 0.374\n",
      "month 4.236888888888889 4.2325333333333335\n",
      "day_of_week 2.0081333333333333 2.0246666666666666\n",
      "duration 1146.3037333333334 1141.4794666666667\n",
      "campaign 3.3648 3.4398666666666666\n",
      "pdays 773.9919555555556 778.8541333333334\n",
      "previous 1.3164444444444445 1.3078666666666667\n",
      "poutcome 0.9554666666666667 0.9582666666666667\n",
      "emp_var_rate 0.07852888888890171 0.0928133333333324\n",
      "cons_price_index 93.5487853333334 93.49189599999954\n",
      "cons_conf_index -39.87718044444453 -39.926134666666485\n",
      "lending_rate3m 3.3024902222222217 3.2990453333333343\n",
      "nr_employed 5137.211285333288 5140.09470133334\n"
     ]
    }
   ],
   "source": [
    "for f in features:\n",
    "    print(f,train[f].mean(),test[f].mean())"
   ]
  },
  {
   "cell_type": "code",
   "execution_count": null,
   "id": "a0e29fb7",
   "metadata": {},
   "outputs": [],
   "source": []
  }
 ],
 "metadata": {
  "kernelspec": {
   "display_name": "Python 3",
   "language": "python",
   "name": "python3"
  },
  "language_info": {
   "codemirror_mode": {
    "name": "ipython",
    "version": 3
   },
   "file_extension": ".py",
   "mimetype": "text/x-python",
   "name": "python",
   "nbconvert_exporter": "python",
   "pygments_lexer": "ipython3",
   "version": "3.7.1"
  }
 },
 "nbformat": 4,
 "nbformat_minor": 5
}
